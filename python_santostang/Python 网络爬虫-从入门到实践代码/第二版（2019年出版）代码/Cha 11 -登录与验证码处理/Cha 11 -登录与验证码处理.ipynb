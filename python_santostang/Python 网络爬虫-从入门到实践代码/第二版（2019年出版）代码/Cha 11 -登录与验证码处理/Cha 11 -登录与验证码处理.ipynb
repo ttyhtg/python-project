{
 "cells": [
  {
   "cell_type": "markdown",
   "metadata": {},
   "source": [
    "# 10.1处理登录表单"
   ]
  },
  {
   "cell_type": "markdown",
   "metadata": {},
   "source": [
    "## 10.1.1\t处理登录表单"
   ]
  },
  {
   "cell_type": "code",
   "execution_count": 6,
   "metadata": {
    "ExecuteTime": {
     "end_time": "2018-12-01T08:01:46.843271Z",
     "start_time": "2018-12-01T08:01:46.583673Z"
    }
   },
   "outputs": [
    {
     "name": "stdout",
     "output_type": "stream",
     "text": [
      "200\n"
     ]
    }
   ],
   "source": [
    "import requests\n",
    "session = requests.session()\n",
    "\n",
    "post_url = 'http://www.santostang.com/wp-login.php'\n",
    "agent = 'Mozilla/5.0 (Macintosh; Intel Mac OS X 10_12_3) AppleWebKit/537.36 (KHTML, like Gecko) Chrome/56.0.2924.87 Safari/537.36'\n",
    "headers = {\n",
    "    \"Host\": \"www.santostang.com\",\n",
    "    \"Origin\":\"http://www.santostang.com\",\n",
    "    \"Referer\":\"http://www.santostang.com/wp-login.php\",\n",
    "    'User-Agent': agent\n",
    "}\n",
    "postdata = {\n",
    "    'pwd': 'a12345',\n",
    "    'log': 'test',\n",
    "    'rememberme' : 'forever',\n",
    "    'redirect_to': 'http://www.santostang.com/wp-admin/',\n",
    "    'testcookie' : 1,\n",
    "}\n",
    "\n",
    "login_page = session.post(post_url, data=postdata, headers=headers)\n",
    "print(login_page.status_code)"
   ]
  },
  {
   "cell_type": "code",
   "execution_count": 12,
   "metadata": {
    "ExecuteTime": {
     "end_time": "2018-12-01T15:41:11.726884Z",
     "start_time": "2018-12-01T15:41:11.304761Z"
    }
   },
   "outputs": [
    {
     "name": "stdout",
     "output_type": "stream",
     "text": [
      "200\n"
     ]
    }
   ],
   "source": [
    "import requests\n",
    "import http.cookiejar as cookielib\n",
    "\n",
    "session = requests.session()\n",
    "session.cookies = cookielib.LWPCookieJar(filename='cookies')\n",
    "\n",
    "post_url = 'http://www.santostang.com/wp-login.php'\n",
    "agent = 'Mozilla/5.0 (Macintosh; Intel Mac OS X 10_12_3) AppleWebKit/537.36 (KHTML, like Gecko) Chrome/56.0.2924.87 Safari/537.36'\n",
    "headers = {\n",
    "    \"Host\": \"www.santostang.com\",\n",
    "    \"Origin\":\"http://www.santostang.com\",\n",
    "    \"Referer\":\"http://www.santostang.com/wp-login.php\",\n",
    "    'User-Agent': agent\n",
    "}\n",
    "postdata = {\n",
    "    'pwd': 'a12345',\n",
    "    'log': 'test',\n",
    "    'rememberme' : 'forever',\n",
    "    'redirect_to': 'http://www.santostang.com/wp-admin/',\n",
    "    'testcookie' : 1,\n",
    "}\n",
    "\n",
    "login_page = session.post(post_url, data=postdata, headers=headers)\n",
    "print(login_page.status_code)\n",
    "session.cookies.save()"
   ]
  },
  {
   "cell_type": "markdown",
   "metadata": {
    "collapsed": true
   },
   "source": [
    "## 10.1.2\t处理cookies，让网页记得你的登录"
   ]
  },
  {
   "cell_type": "code",
   "execution_count": 13,
   "metadata": {
    "ExecuteTime": {
     "end_time": "2018-12-01T15:52:33.930835Z",
     "start_time": "2018-12-01T15:52:33.928829Z"
    }
   },
   "outputs": [],
   "source": [
    "import requests\n",
    "import http.cookiejar as cookielib"
   ]
  },
  {
   "cell_type": "code",
   "execution_count": 14,
   "metadata": {
    "ExecuteTime": {
     "end_time": "2018-12-01T15:52:34.794966Z",
     "start_time": "2018-12-01T15:52:34.791958Z"
    }
   },
   "outputs": [],
   "source": [
    "session = requests.session()\n",
    "session.cookies = cookielib.LWPCookieJar(filename='cookies')\n",
    "try:\n",
    "    session.cookies.load(ignore_discard=True)\n",
    "except:\n",
    "    print(\"Cookie 未能加载\")"
   ]
  },
  {
   "cell_type": "code",
   "execution_count": 15,
   "metadata": {
    "ExecuteTime": {
     "end_time": "2018-12-01T15:52:36.043363Z",
     "start_time": "2018-12-01T15:52:36.040356Z"
    }
   },
   "outputs": [],
   "source": [
    "def isLogin():\n",
    "    url = \"http://www.santostang.com/wp-admin/profile.php\"\n",
    "    login_code = session.get(url, headers=headers, allow_redirects=False).status_code\n",
    "    if login_code == 200:\n",
    "        return True\n",
    "    else:\n",
    "        return False"
   ]
  },
  {
   "cell_type": "code",
   "execution_count": 16,
   "metadata": {
    "ExecuteTime": {
     "end_time": "2018-12-01T15:52:39.118295Z",
     "start_time": "2018-12-01T15:52:37.919696Z"
    }
   },
   "outputs": [
    {
     "name": "stdout",
     "output_type": "stream",
     "text": [
      "您已经登录\n"
     ]
    }
   ],
   "source": [
    "if __name__ == '__main__':\n",
    "    agent = 'Mozilla/5.0 (Macintosh; Intel Mac OS X 10_12_3) AppleWebKit/537.36 (KHTML, like Gecko) Chrome/56.0.2924.87 Safari/537.36'\n",
    "    headers = {\n",
    "        \"Host\": \"www.santostang.com\",\n",
    "        \"Origin\":\"http://www.santostang.com\",\n",
    "        \"Referer\":\"http://www.santostang.com/wp-login.php\",\n",
    "        'User-Agent': agent\n",
    "    }\n",
    "    if isLogin():\n",
    "        print('您已经登录')"
   ]
  },
  {
   "cell_type": "markdown",
   "metadata": {},
   "source": [
    "## 10.1.3\t完整的登录代码"
   ]
  },
  {
   "cell_type": "code",
   "execution_count": 18,
   "metadata": {
    "ExecuteTime": {
     "end_time": "2018-12-01T15:54:01.810525Z",
     "start_time": "2018-12-01T15:54:01.287524Z"
    }
   },
   "outputs": [
    {
     "name": "stdout",
     "output_type": "stream",
     "text": [
      "Cookie 未能加载\n",
      "200\n"
     ]
    }
   ],
   "source": [
    "import requests\n",
    "import http.cookiejar as cookielib\n",
    "\n",
    "session = requests.session()\n",
    "session.cookies = cookielib.LWPCookieJar(filename='cookies')\n",
    "try:\n",
    "    session.cookies.load(ignore_discard=True)\n",
    "except:\n",
    "    print(\"Cookie 未能加载\")\n",
    "\n",
    "def isLogin():\n",
    "    # 通过查看用户个人信息来判断是否已经登录\n",
    "    url = \"http://www.santostang.com/wp-admin/profile.php\"\n",
    "    login_code = session.get(url, headers=headers, allow_redirects=False).status_code\n",
    "    if login_code == 200:\n",
    "        return True\n",
    "    else:\n",
    "        return False\n",
    "    \n",
    "def login(secret, account):\n",
    "    post_url = 'http://www.santostang.com/wp-login.php'\n",
    "    postdata = {\n",
    "        'pwd': secret,\n",
    "        'log': account,\n",
    "        'rememberme' : 'true',\n",
    "        'redirect_to': 'http://www.santostang.com/wp-admin/',\n",
    "        'testcookie' : 1,\n",
    "    }\n",
    "    try:\n",
    "        # 不需要验证码直接登录成功\n",
    "        login_page = session.post(post_url, data=postdata, headers=headers)\n",
    "        login_code = login_page.text\n",
    "        print(login_page.status_code)\n",
    "        #print(login_code)\n",
    "    except:\n",
    "        pass\n",
    "    session.cookies.save()\n",
    "    \n",
    "if __name__ == '__main__':\n",
    "    agent = 'Mozilla/5.0 (Macintosh; Intel Mac OS X 10_12_3) AppleWebKit/537.36 (KHTML, like Gecko) Chrome/56.0.2924.87 Safari/537.36'\n",
    "    headers = {\n",
    "        \"Host\": \"www.santostang.com\",\n",
    "        \"Origin\":\"http://www.santostang.com\",\n",
    "        \"Referer\":\"http://www.santostang.com/wp-login.php\",\n",
    "        'User-Agent': agent\n",
    "    }\n",
    "    if isLogin():\n",
    "        print('您已经登录') \n",
    "    else:\n",
    "        login('a12345', 'test') "
   ]
  },
  {
   "cell_type": "markdown",
   "metadata": {
    "collapsed": true
   },
   "source": [
    "# 10.2验证码的处理"
   ]
  },
  {
   "cell_type": "markdown",
   "metadata": {},
   "source": [
    "## 10.2.2\t人工方法处理验证码"
   ]
  },
  {
   "cell_type": "code",
   "execution_count": 12,
   "metadata": {
    "collapsed": true
   },
   "outputs": [],
   "source": [
    "def get_captcha():\n",
    "    #获取验证码图片所在的url\n",
    "    r = session.get('http://www.santostang.com/wp-login.php?action=register', headers=headers)\n",
    "    soup = BeautifulSoup(r.text, \"lxml\")\n",
    "    captcha_url = soup.find(\"img\", id=\"captcha_code_img\")[\"src\"]\n",
    "    # 获取验证码图片\n",
    "    r = session.get(captcha_url, headers=headers)\n",
    "    with open('captcha.jpg', 'wb') as f:\n",
    "        f.write(r.content)\n",
    "        f.close()\n",
    "    try:\n",
    "        im = Image.open('captcha.jpg')\n",
    "        im.show()\n",
    "        im.close()\n",
    "    except:\n",
    "        print(u'请到 %s 目录找到captcha.jpg 手动输入' % os.path.abspath('captcha.jpg'))\n",
    "    captcha = input(\"please input the captcha\\n>\")\n",
    "    return captcha"
   ]
  },
  {
   "cell_type": "code",
   "execution_count": 13,
   "metadata": {
    "collapsed": true
   },
   "outputs": [],
   "source": [
    "def register(account, email):      \n",
    "    post_url = 'http://www.santostang.com/wp-login.php?action=register'\n",
    "    postdata = {\n",
    "        'user_login': account,\n",
    "        'user_email': email,\n",
    "        'redirect_to': '',\n",
    "        }\n",
    "    # 调用get_captcha函数，获取验证码数字\n",
    "    postdata[\"ux_txt_captcha_challenge_field\"] = get_captcha()  \n",
    "    # 提交POST请求，进行注册\n",
    "    register_page = session.post(post_url, data=postdata, headers=headers)\n",
    "    # 若输出打印结果为200，则表示注册成功\n",
    "    print(register_page.status_code)"
   ]
  },
  {
   "cell_type": "code",
   "execution_count": 14,
   "metadata": {},
   "outputs": [
    {
     "name": "stdout",
     "output_type": "stream",
     "text": [
      "please input the captcha\n",
      ">3p5e\n",
      "200\n"
     ]
    }
   ],
   "source": [
    "import requests\n",
    "from bs4 import BeautifulSoup\n",
    "import re\n",
    "import os\n",
    "from PIL import Image\n",
    "if __name__ == '__main__':\n",
    "    agent = 'Mozilla/5.0 (Macintosh; Intel Mac OS X 10_12_3) AppleWebKit/537.36 (KHTML, like Gecko) Chrome/56.0.2924.87 Safari/537.36'\n",
    "    headers = {\n",
    "        \"Host\": \"www.santostang.com\",\n",
    "        \"Origin\":\"http://www.santostang.com\",\n",
    "        \"Referer\":\"http://www.santostang.com/wp-login.php\",\n",
    "        'User-Agent': agent\n",
    "    }\n",
    "    session = requests.session()\n",
    "    # 调用注册函数进行注册\n",
    "    account = '18341432113' #改成自己用户名\n",
    "    email = 'a12345@qq.com' # 改成自己邮箱\n",
    "    register(account, email)"
   ]
  },
  {
   "cell_type": "markdown",
   "metadata": {},
   "source": [
    "## 10.2.3\tOCR处理验证码"
   ]
  },
  {
   "cell_type": "code",
   "execution_count": 4,
   "metadata": {
    "ExecuteTime": {
     "end_time": "2018-12-02T14:21:42.312640Z",
     "start_time": "2018-12-02T14:21:40.701283Z"
    }
   },
   "outputs": [],
   "source": [
    "from PIL import Image\n",
    "im = Image.open('captcha.jpg')\n",
    "gray = im.convert('L')\n",
    "gray.show()\n",
    "gray.save(\"captcha_gray.jpg\")"
   ]
  },
  {
   "cell_type": "code",
   "execution_count": 5,
   "metadata": {
    "collapsed": true
   },
   "outputs": [],
   "source": [
    "threshold = 150\n",
    "table = []\n",
    "for i in range(256):\n",
    "    if i < threshold:\n",
    "        table.append(0)\n",
    "    else:\n",
    "        table.append(1)\n",
    "out = gray.point(table, '1')\n",
    "out.show()\n",
    "out.save(\"captcha_thresholded.jpg\")"
   ]
  },
  {
   "cell_type": "code",
   "execution_count": 2,
   "metadata": {
    "ExecuteTime": {
     "end_time": "2018-12-02T14:12:14.009596Z",
     "start_time": "2018-12-02T14:12:13.212477Z"
    }
   },
   "outputs": [
    {
     "name": "stdout",
     "output_type": "stream",
     "text": [
      "WD6N\n"
     ]
    }
   ],
   "source": [
    "import pytesseract\n",
    "th = Image.open('captcha_thresholded.jpg')\n",
    "print(pytesseract.image_to_string(th))"
   ]
  },
  {
   "cell_type": "code",
   "execution_count": null,
   "metadata": {
    "collapsed": true
   },
   "outputs": [],
   "source": []
  }
 ],
 "metadata": {
  "kernelspec": {
   "display_name": "Python 3",
   "language": "python",
   "name": "python3"
  },
  "language_info": {
   "codemirror_mode": {
    "name": "ipython",
    "version": 3
   },
   "file_extension": ".py",
   "mimetype": "text/x-python",
   "name": "python",
   "nbconvert_exporter": "python",
   "pygments_lexer": "ipython3",
   "version": "3.6.5"
  },
  "toc": {
   "base_numbering": 1,
   "nav_menu": {
    "height": "153px",
    "width": "252px"
   },
   "number_sections": true,
   "sideBar": true,
   "skip_h1_title": false,
   "title_cell": "Table of Contents",
   "title_sidebar": "Contents",
   "toc_cell": false,
   "toc_position": {},
   "toc_section_display": "block",
   "toc_window_display": false
  }
 },
 "nbformat": 4,
 "nbformat_minor": 2
}
