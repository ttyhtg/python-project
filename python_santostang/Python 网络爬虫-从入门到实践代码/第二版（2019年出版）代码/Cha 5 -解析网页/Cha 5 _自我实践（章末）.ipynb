{
 "cells": [
  {
   "cell_type": "code",
   "execution_count": 1,
   "metadata": {
    "ExecuteTime": {
     "end_time": "2018-11-18T13:51:42.053043Z",
     "start_time": "2018-11-18T13:51:40.908943Z"
    }
   },
   "outputs": [],
   "source": [
    "# 首先提取出第一页每个房子的链接\n",
    "import requests\n",
    "from bs4 import BeautifulSoup\n",
    "\n",
    "headers = {'User-Agent' : 'Mozilla/5.0 (Windows NT 6.1; WOW64) AppleWebKit/537.36 (KHTML, like Gecko) Chrome/57.0.2987.98 Safari/537.36'}\n",
    "link = 'https://beijing.anjuke.com/sale/'\n",
    "r = requests.get(link, headers = headers)\n",
    "\n",
    "soup = BeautifulSoup(r.text, 'lxml')\n",
    "house_list = soup.find_all('li', class_=\"list-item\")\n",
    "\n",
    "output_list = []\n",
    "for house in house_list:\n",
    "    name = house.find('div', class_ ='house-title').a.text.strip()\n",
    "    link = house.find('div', class_ ='house-title').a['href']\n",
    "    output_list.append([name, link])"
   ]
  },
  {
   "cell_type": "code",
   "execution_count": 3,
   "metadata": {
    "ExecuteTime": {
     "end_time": "2018-11-18T13:52:31.477417Z",
     "start_time": "2018-11-18T13:52:31.474216Z"
    },
    "scrolled": true
   },
   "outputs": [
    {
     "name": "stdout",
     "output_type": "stream",
     "text": [
      "[['（抢）通州永乐新城，70年住宅，南北通透，超低总价，随时看房', 'https://beijing.anjuke.com/prop/view/A1495318150?from=filter&spread=commsearch_p&position=1&kwtype=filter&now_time=1542549101'], ['（抢）通州南北通透住宅，超低首付，刚需住宅，环境优美', 'https://beijing.anjuke.com/prop/view/A1495292219?from=filter&spread=commsearch_p&position=2&kwtype=filter&now_time=1542549101'], ['K2十里春风，独立房本，园林社区，交通便利，可*', 'https://beijing.anjuke.com/prop/view/A1499909866?from=filter&spread=commsearch_p&position=3&kwtype=filter&now_time=1542549101'], ['通州70年住宅大产权，通透二居室，近地铁，总价低，可用公积金', 'https://beijing.anjuke.com/prop/view/A1500735636?from=filter&spread=commsearch_p&position=4&kwtype=filter&now_time=1542549101'], ['（抢）通州70年永乐新城住宅首付70余万，可洛户可上学', 'https://beijing.anjuke.com/prop/view/A1496266444?from=filter&spread=commsearch_p&position=5&kwtype=filter&now_time=1542549101'], ['（抢）通州k2十里春风，70年大产权住宅，高端品质，超低总价', 'https://beijing.anjuke.com/prop/view/A1483775643?from=filter&spread=commsearch_p&position=6&kwtype=filter&now_time=1542549101'], ['（抢）通州南北通透住宅，环境优美，超高绿化率，超低总价。', 'https://beijing.anjuke.com/prop/view/A1501711032?from=filter&spread=commsearch_p&position=7&kwtype=filter&now_time=1542549101'], ['通州K2十里春风 70年大产权，刚需住宅南北通透，环境优美', 'https://beijing.anjuke.com/prop/view/A1498890021?from=filter&spread=commsearch_p&position=8&kwtype=filter&now_time=1542549101'], ['北京平谷纯别墅，70年产权，北京领秀，地铁旁，独门独院', 'https://beijing.anjuke.com/prop/view/A1495286741?from=filter&spread=commsearch_p&position=9&kwtype=filter&now_time=1542549101'], ['70年别墅，北京领秀，首付68万起，可分期，碧桂园金科开发', 'https://beijing.anjuke.com/prop/view/A1494420607?from=filter&spread=commsearch_p&position=10&kwtype=filter&now_time=1542549101'], ['通州70年大产权住宅 均价28100 南北通透三居 绿化率高', 'https://beijing.anjuke.com/prop/view/A1496233470?from=filter&spread=commsearch_p&position=11&kwtype=filter&now_time=1542549101'], ['B北京领秀叠拼别墅，园中之园，环境优美，70年大产权', 'https://beijing.anjuke.com/prop/view/A1483917427?from=filter&spread=commsearch_p&position=12&kwtype=filter&now_time=1542549101'], ['8A北京领秀，平谷高端叠拼别墅碧桂园金科出品环境优美私家花园', 'https://beijing.anjuke.com/prop/view/A1489061923?from=filter&spread=commsearch_p&position=13&kwtype=filter&now_time=1542549101'], ['生活就是在度假，通州住宅首付75余万，可洛户可上学', 'https://beijing.anjuke.com/prop/view/A1501566532?from=filter&spread=commsearch_p&position=14&kwtype=filter&now_time=1542549101'], ['（抢）通州永乐开发区，高端住宅区，南北通透，环境优美。', 'https://beijing.anjuke.com/prop/view/A1501727922?from=filter&spread=commsearch_p&position=15&kwtype=filter&now_time=1542549101'], ['平谷纯别墅，70年大产权，北京领秀，独门独院，南北通透', 'https://beijing.anjuke.com/prop/view/A1482612524?from=filter&spread=commsearch_p&position=16&kwtype=filter&now_time=1542549101'], ['碧桂园金科联合打造 紧临金海湖景区 环境优美 养老宜居', 'https://beijing.anjuke.com/prop/view/A1498898623?from=filter&spread=commsearch_p&position=17&kwtype=filter&now_time=1542549101'], ['A地铁边别墅，首付68万起，70年产权，交通便捷，配套齐全', 'https://beijing.anjuke.com/prop/view/A1483809431?from=filter&spread=commsearch_p&position=18&kwtype=filter&now_time=1542549101'], ['通州别墅院长，五重坡地园林，独门独户地铁边送花园送地下', 'https://beijing.anjuke.com/prop/view/A1488894239?from=filter&spread=commsearch_p&position=19&kwtype=filter&now_time=1542549101'], ['北京岭秀 平谷浅山叠拼别墅 独门独院 三面环山 紧临景区', 'https://beijing.anjuke.com/prop/view/A1483852860?from=filter&spread=commsearch_p&position=20&kwtype=filter&now_time=1542549101'], ['通州k2十里春风园林住宅 南北通透 三居室，地铁旁 交通便利', 'https://beijing.anjuke.com/prop/view/A1498889979?from=filter&spread=commsearch_p&position=21&kwtype=filter&now_time=1542549101'], ['A北京岭秀平谷浅山别墅  养老宜居 独立房本独门独院', 'https://beijing.anjuke.com/prop/view/A1490450815?from=filter&spread=commsearch_p&position=22&kwtype=filter&now_time=1542549101'], ['B北京领秀，旅游度假养老宜居，上叠下叠畅意享受自带医疗和商超', 'https://beijing.anjuke.com/prop/view/A1500809742?from=filter&spread=commsearch_p&position=23&kwtype=filter&now_time=1542549101'], ['通州永乐开发区，生态科技小镇，交通便利，近地铁，送飘窗', 'https://beijing.anjuke.com/prop/view/A1497663850?from=filter&spread=commsearch_p&position=24&kwtype=filter&now_time=1542549101'], ['通州k2十里春风，高端物业服务，临近别墅，近地铁，环境优美', 'https://beijing.anjuke.com/prop/view/A1482587088?from=filter&spread=commsearch_p&position=25&kwtype=filter&now_time=1542549101'], ['北京领秀别墅，品牌开发平谷区高端项目，南北通透，环境优美', 'https://beijing.anjuke.com/prop/view/A1483914739?from=filter&spread=commsearch_p&position=26&kwtype=filter&now_time=1542549101'], ['（抢特惠）留在北京的好机会，通州住宅小面积低总价环境好', 'https://beijing.anjuke.com/prop/view/A1498644389?from=filter&spread=commsearch_p&position=27&kwtype=filter&now_time=1542549101'], ['北京领秀，叠拼别墅，70年产权，独门独院，环境优美，品质生活', 'https://beijing.anjuke.com/prop/view/A1501739718?from=filter&spread=commsearch_p&position=28&kwtype=filter&now_time=1542549101'], ['K2十里春风，70年大产权住宅，通透户型可*，环境优美', 'https://beijing.anjuke.com/prop/view/A1496582065?from=filter&spread=commsearch_p&position=29&kwtype=filter&now_time=1542549101'], ['北京通州，70住宅，南北通透，超低总价，环境优美，交通便利', 'https://beijing.anjuke.com/prop/view/A1499979324?from=filter&spread=commsearch_p&position=30&kwtype=filter&now_time=1542549101'], ['北京岭秀，70年别墅，金科碧桂园联合开发，给您一个的家', 'https://beijing.anjuke.com/prop/view/A1492577823?from=filter&spread=commsearch_p&position=31&kwtype=filter&now_time=1542549101'], ['北京城市副中心，京津冀一体化，超大楼间距，超高绿化率', 'https://beijing.anjuke.com/prop/view/A1499419542?from=filter&spread=commsearch_p&position=32&kwtype=filter&now_time=1542549101'], ['（抢）通州高品质住宅，永乐新城，南北通透，可洛户，环境优美', 'https://beijing.anjuke.com/prop/view/A1487096056?from=filter&spread=commsearch_p&position=33&kwtype=filter&now_time=1542549101'], ['（抢）金科碧桂园开发，浅山别墅，环境优美，首付分期68万', 'https://beijing.anjuke.com/prop/view/A1493496094?from=filter&spread=commsearch_p&position=34&kwtype=filter&now_time=1542549101'], ['B北京领秀，金科碧桂园大开发商，70年产权养老宜居，三面环山', 'https://beijing.anjuke.com/prop/view/A1500824893?from=filter&spread=commsearch_p&position=35&kwtype=filter&now_time=1542549101'], ['通州70年住宅，大产权，环境优美，近地铁，送新风系统和飘窗', 'https://beijing.anjuke.com/prop/view/A1499570421?from=filter&spread=commsearch_p&position=36&kwtype=filter&now_time=1542549101'], ['通州地铁旁大产权住宅  南北通透 三居室，可*可上学', 'https://beijing.anjuke.com/prop/view/A1491765552?from=filter&spread=commsearch_p&position=37&kwtype=filter&now_time=1542549101'], ['K2十里春风南北通透户型，70年大产权住宅配套齐全', 'https://beijing.anjuke.com/prop/view/A1499909541?from=filter&spread=commsearch_p&position=38&kwtype=filter&now_time=1542549101'], ['养老宜居社区 南北通透 绿化率高 环境好 可*可上学', 'https://beijing.anjuke.com/prop/view/A1492800767?from=filter&spread=commsearch_p&position=39&kwtype=filter&now_time=1542549101'], ['（抢）通州70年住宅，南北通透，超低首付，刚需住宅，环境优美', 'https://beijing.anjuke.com/prop/view/A1495324328?from=filter&spread=commsearch_p&position=40&kwtype=filter&now_time=1542549101'], ['宜居住宅 通州永乐新城 一手新房 ,南北通透,集体户口可买', 'https://beijing.anjuke.com/prop/view/A1496534026?from=filter&spread=commsearch_p&position=41&kwtype=filter&now_time=1542549101'], ['通州k2十里春风，别墅区里的住宅，南北通透，小三居，手慢无', 'https://beijing.anjuke.com/prop/view/A1501688319?from=filter&spread=commsearch_p&position=42&kwtype=filter&now_time=1542549101'], ['春风十里不如你十里春风等着你通州70年住宅，送新风系统和飘窗', 'https://beijing.anjuke.com/prop/view/A1499878440?from=filter&spread=commsearch_p&position=43&kwtype=filter&now_time=1542549101'], ['北京领秀，70年产权，南北通透，金科碧桂园开发，环境优美。', 'https://beijing.anjuke.com/prop/view/A1495263422?from=filter&spread=commsearch_p&position=44&kwtype=filter&now_time=1542549101'], ['通州永乐国际新城70年产权，独立房本，南北通透两居，品质小区', 'https://beijing.anjuke.com/prop/view/A1497775005?from=filter&spread=commsearch_p&position=45&kwtype=filter&now_time=1542549101'], ['刚需客户首 选楼盘，安家北京不是梦，小区环境优美，近地铁公交', 'https://beijing.anjuke.com/prop/view/A1499390221?from=filter&spread=commsearch_p&position=46&kwtype=filter&now_time=1542549101'], ['K2十里春风，70年大产权住宅可*，总价低，配套全', 'https://beijing.anjuke.com/prop/view/A1496581507?from=filter&spread=commsearch_p&position=47&kwtype=filter&now_time=1542549101'], ['通州大产权，十里春风总价低，高品质，明星盘，找我有优惠', 'https://beijing.anjuke.com/prop/view/A1501434665?from=filter&spread=commsearch_p&position=48&kwtype=filter&now_time=1542549101'], ['通州k2十里春风，70年住宅，南北通透，送新风系统，飘窗。', 'https://beijing.anjuke.com/prop/view/A1495370685?from=filter&spread=commsearch_p&position=49&kwtype=filter&now_time=1542549101'], ['70年大产权别墅，可洛户，首付50万起，金科开发商，环境优美', 'https://beijing.anjuke.com/prop/view/A1492398875?from=filter&spread=commsearch_p&position=50&kwtype=filter&now_time=1542549101'], ['通州k2十里春风，南北通透，70年大产权，首付70万起。', 'https://beijing.anjuke.com/prop/view/A1495315245?from=filter&spread=commsearch_p&position=51&kwtype=filter&now_time=1542549101'], ['（抢）通州大产权住宅，南北通透，小三居，环境优美。送飘窗', 'https://beijing.anjuke.com/prop/view/A1501707434?from=filter&spread=commsearch_p&position=52&kwtype=filter&now_time=1542549101'], ['（抢）北京首付分期68万起，浅山别墅，独门独院，送18万车位', 'https://beijing.anjuke.com/prop/view/A1493474620?from=filter&spread=commsearch_p&position=53&kwtype=filter&now_time=1542549101'], ['南北通透奢华三居，点开帖子联系我，有优惠，十里春风大产权', 'https://beijing.anjuke.com/prop/view/A1501482931?from=filter&spread=commsearch_p&position=54&kwtype=filter&now_time=1542549101'], ['可洛户，大产权，品质住宅，十里春风，南北通透，环境优美', 'https://beijing.anjuke.com/prop/view/A1501494551?from=filter&spread=commsearch_p&position=55&kwtype=filter&now_time=1542549101'], ['通州大产权70年高端住宅，k2十里春风，南北通透户型，环境好', 'https://beijing.anjuke.com/prop/view/A1499975653?from=filter&spread=commsearch_p&position=56&kwtype=filter&now_time=1542549101'], ['K2十里春风，新风系统，花园社区，可*刚需住宅，配套齐', 'https://beijing.anjuke.com/prop/view/A1499910213?from=filter&spread=commsearch_p&position=57&kwtype=filter&now_time=1542549101'], ['（抢）通州核心区住宅，永乐开发区，南北通透，三居室，送飘窗', 'https://beijing.anjuke.com/prop/view/A1501715887?from=filter&spread=commsearch_p&position=58&kwtype=filter&now_time=1542549101'], ['月坛北小街央产4居，东西通透，小区可免费停车，封闭管理', 'https://beijing.anjuke.com/prop/view/A1485862104?from=filter&spread=commsearch_p&position=59&kwtype=filter&now_time=1542549101'], ['西红门电梯房 西向两居室 中间楼层 满五一套', 'https://beijing.anjuke.com/prop/view/A1493973851?from=filter-salesxq&spread=commsearch_p&position=60&kwtype=filter&now_time=1542549101']]\n"
     ]
    }
   ],
   "source": [
    "print (output_list)"
   ]
  },
  {
   "cell_type": "code",
   "execution_count": 22,
   "metadata": {
    "ExecuteTime": {
     "end_time": "2018-11-18T14:14:27.842709Z",
     "start_time": "2018-11-18T14:13:51.351932Z"
    }
   },
   "outputs": [
    {
     "name": "stdout",
     "output_type": "stream",
     "text": [
      "['（抢）通州永乐新城，70年住宅，南北通透，超低总价，随时看房', '190万', '2室2厅', '71平方米', 'K2十里春风', '26760 元/m²']\n",
      "['（抢）通州南北通透住宅，超低首付，刚需住宅，环境优美', '230万', '3室2厅', '89平方米', 'K2十里春风', '25842 元/m²']\n",
      "['K2十里春风，独立房本，园林社区，交通便利，可*', '189万', '2室2厅', '73平方米', 'K2十里春风', '25890 元/m²']\n",
      "['通州70年住宅大产权，通透二居室，近地铁，总价低，可用公积金', '189万', '2室2厅', '73平方米', 'K2十里春风', '25890 元/m²']\n",
      "['（抢）通州70年永乐新城住宅首付70余万，可洛户可上学', '190万', '2室2厅', '71平方米', 'K2十里春风', '26760 元/m²']\n",
      "['（抢）通州k2十里春风，70年大产权住宅，高端品质，超低总价', '199万', '2室2厅', '77平方米', 'K2十里春风', '25844 元/m²']\n",
      "['（抢）通州南北通透住宅，环境优美，超高绿化率，超低总价。', '230万', '3室2厅', '89平方米', 'K2十里春风', '25842 元/m²']\n",
      "['通州K2十里春风 70年大产权，刚需住宅南北通透，环境优美', '228万', '3室2厅', '89平方米', 'K2十里春风', '25617 元/m²']\n",
      "['北京平谷纯别墅，70年产权，北京领秀，地铁旁，独门独院', '430万', '3室2厅', '223平方米', '中弘由山由谷(别墅)', '19282 元/m²']\n",
      "['70年别墅，北京领秀，首付68万起，可分期，碧桂园金科开发', '530万', '3室2厅', '260平方米', '中弘由山由谷(别墅)', '20384 元/m²']\n",
      "['通州70年大产权住宅 均价28100 南北通透三居 绿化率高', '228万', '3室2厅', '89平方米', 'K2十里春风', '25617 元/m²']\n",
      "['B北京领秀叠拼别墅，园中之园，环境优美，70年大产权', '430万', '3室2厅', '223平方米', '中弘由山由谷(别墅)', '19282 元/m²']\n",
      "['8A北京领秀，平谷高端叠拼别墅碧桂园金科出品环境优美私家花园', '430万', '3室2厅', '223平方米', '中弘由山由谷(别墅)', '19282 元/m²']\n",
      "['生活就是在度假，通州住宅首付75余万，可洛户可上学', '189万', '2室2厅', '71平方米', 'K2十里春风', '26619 元/m²']\n",
      "['（抢）通州永乐开发区，高端住宅区，南北通透，环境优美。', '230万', '3室2厅', '89平方米', 'K2十里春风', '25842 元/m²']\n",
      "['平谷纯别墅，70年大产权，北京领秀，独门独院，南北通透', '430万', '3室2厅', '223平方米', '中弘由山由谷(别墅)', '19282 元/m²']\n",
      "['碧桂园金科联合打造 紧临金海湖景区 环境优美 养老宜居', '430万', '3室2厅', '223平方米', '中弘由山由谷(别墅)', '19282 元/m²']\n",
      "['A地铁边别墅，首付68万起，70年产权，交通便捷，配套齐全', '430万', '3室2厅', '223平方米', '中弘由山由谷(别墅)', '19282 元/m²']\n",
      "['通州别墅院长，五重坡地园林，独门独户地铁边送花园送地下', '500万', '3室2厅', '155平方米', 'K2十里春风(别墅)', '32258 元/m²']\n",
      "['北京岭秀 平谷浅山叠拼别墅 独门独院 三面环山 紧临景区', '428万', '3室2厅', '220平方米', '中弘由山由谷(别墅)', '19454 元/m²']\n",
      "['通州k2十里春风园林住宅 南北通透 三居室，地铁旁 交通便利', '228万', '3室2厅', '89平方米', 'K2十里春风', '25617 元/m²']\n",
      "['A北京岭秀平谷浅山别墅  养老宜居 独立房本独门独院', '430万', '3室2厅', '220平方米', '中弘由山由谷(别墅)', '19545 元/m²']\n",
      "['B北京领秀，旅游度假养老宜居，上叠下叠畅意享受自带医疗和商超', '430万', '3室2厅', '223平方米', '中弘由山由谷(别墅)', '19282 元/m²']\n",
      "['通州永乐开发区，生态科技小镇，交通便利，近地铁，送飘窗', '190万', '2室2厅', '73平方米', 'K2十里春风', '26027 元/m²']\n",
      "['通州k2十里春风，高端物业服务，临近别墅，近地铁，环境优美', '230万', '3室2厅', '89平方米', 'K2十里春风', '25842 元/m²']\n",
      "['北京领秀别墅，品牌开发平谷区高端项目，南北通透，环境优美', '430万', '3室2厅', '223平方米', '中弘由山由谷(别墅)', '19282 元/m²']\n",
      "['（抢特惠）留在北京的好机会，通州住宅小面积低总价环境好', '190万', '2室2厅', '73平方米', 'K2十里春风', '26027 元/m²']\n",
      "['北京领秀，叠拼别墅，70年产权，独门独院，环境优美，品质生活', '420万', '3室2厅', '218平方米', '中弘由山由谷(别墅)', '19266 元/m²']\n",
      "['K2十里春风，70年大产权住宅，通透户型可*，环境优美', '189万', '2室2厅', '73平方米', 'K2十里春风', '25890 元/m²']\n",
      "['北京通州，70住宅，南北通透，超低总价，环境优美，交通便利', '189万', '2室2厅', '73平方米', 'K2十里春风', '25890 元/m²']\n",
      "['北京岭秀，70年别墅，金科碧桂园联合开发，给您一个的家', '420万', '3室2厅', '218平方米', '中弘由山由谷(别墅)', '19266 元/m²']\n",
      "['北京城市副中心，京津冀一体化，超大楼间距，超高绿化率', '190万', '2室2厅', '73平方米', 'K2十里春风', '26027 元/m²']\n",
      "['（抢）通州高品质住宅，永乐新城，南北通透，可洛户，环境优美', '185万', '2室2厅', '70平方米', 'K2十里春风', '26428 元/m²']\n",
      "['（抢）金科碧桂园开发，浅山别墅，环境优美，首付分期68万', '530万', '3室2厅', '260平方米', '中弘由山由谷(别墅)', '20384 元/m²']\n",
      "['B北京领秀，金科碧桂园大开发商，70年产权养老宜居，三面环山', '430万', '3室2厅', '223平方米', '中弘由山由谷(别墅)', '19282 元/m²']\n",
      "['通州70年住宅，大产权，环境优美，近地铁，送新风系统和飘窗', '229万', '3室2厅', '89平方米', 'K2十里春风', '25730 元/m²']\n",
      "['通州地铁旁大产权住宅  南北通透 三居室，可*可上学', '229万', '3室2厅', '89平方米', 'K2十里春风', '25730 元/m²']\n",
      "['K2十里春风南北通透户型，70年大产权住宅配套齐全', '189万', '2室2厅', '73平方米', 'K2十里春风', '25890 元/m²']\n",
      "['养老宜居社区 南北通透 绿化率高 环境好 可*可上学', '189万', '2室2厅', '73平方米', 'K2十里春风', '25890 元/m²']\n",
      "['（抢）通州70年住宅，南北通透，超低首付，刚需住宅，环境优美', '190万', '2室2厅', '71平方米', 'K2十里春风', '26760 元/m²']\n",
      "['宜居住宅 通州永乐新城 一手新房 ,南北通透,集体户口可买', '228万', '3室2厅', '89平方米', 'K2十里春风', '25617 元/m²']\n",
      "['通州k2十里春风，别墅区里的住宅，南北通透，小三居，手慢无', '230万', '3室2厅', '89平方米', 'K2十里春风', '25842 元/m²']\n",
      "['春风十里不如你十里春风等着你通州70年住宅，送新风系统和飘窗', '229万', '3室2厅', '89平方米', 'K2十里春风', '25730 元/m²']\n",
      "['北京领秀，70年产权，南北通透，金科碧桂园开发，环境优美。', '530万', '3室2厅', '260平方米', '中弘由山由谷(别墅)', '20384 元/m²']\n",
      "['通州永乐国际新城70年产权，独立房本，南北通透两居，品质小区', '190万', '2室2厅', '73平方米', 'K2十里春风', '26027 元/m²']\n",
      "['刚需客户首 选楼盘，安家北京不是梦，小区环境优美，近地铁公交', '190万', '2室2厅', '73平方米', 'K2十里春风', '26027 元/m²']\n",
      "['K2十里春风，70年大产权住宅可*，总价低，配套全', '189万', '2室2厅', '73平方米', 'K2十里春风', '25890 元/m²']\n",
      "['通州大产权，十里春风总价低，高品质，明星盘，找我有优惠', '229万', '3室2厅', '89平方米', 'K2十里春风', '25730 元/m²']\n",
      "['通州k2十里春风，70年住宅，南北通透，送新风系统，飘窗。', '228万', '3室2厅', '89平方米', 'K2十里春风', '25617 元/m²']\n",
      "['70年大产权别墅，可洛户，首付50万起，金科开发商，环境优美', '530万', '3室2厅', '260平方米', '中弘由山由谷(别墅)', '20384 元/m²']\n",
      "['通州k2十里春风，南北通透，70年大产权，首付70万起。', '190万', '2室2厅', '71平方米', 'K2十里春风', '26760 元/m²']\n",
      "['（抢）通州大产权住宅，南北通透，小三居，环境优美。送飘窗', '230万', '3室2厅', '89平方米', 'K2十里春风', '25842 元/m²']\n",
      "['（抢）北京首付分期68万起，浅山别墅，独门独院，送18万车位', '530万', '3室2厅', '260平方米', '中弘由山由谷(别墅)', '20384 元/m²']\n",
      "['南北通透奢华三居，点开帖子联系我，有优惠，十里春风大产权', '229万', '3室2厅', '89平方米', 'K2十里春风', '25730 元/m²']\n",
      "['可洛户，大产权，品质住宅，十里春风，南北通透，环境优美', '229万', '3室2厅', '89平方米', 'K2十里春风', '25730 元/m²']\n",
      "['通州大产权70年高端住宅，k2十里春风，南北通透户型，环境好', '230万', '3室2厅', '89平方米', 'K2十里春风', '25842 元/m²']\n",
      "['K2十里春风，新风系统，花园社区，可*刚需住宅，配套齐', '189万', '2室2厅', '73平方米', 'K2十里春风', '25890 元/m²']\n",
      "['（抢）通州核心区住宅，永乐开发区，南北通透，三居室，送飘窗', '230万', '3室2厅', '89平方米', 'K2十里春风', '25842 元/m²']\n",
      "['月坛北小街央产4居，东西通透，小区可免费停车，封闭管理', '1125万', '4室1厅', '117.2平方米', '月坛北小街', '95989 元/m²']\n",
      "['西红门电梯房 西向两居室 中间楼层 满五一套', '379万', '2室1厅', '90平方米', '宏大北园', '42129 元/m²']\n"
     ]
    }
   ],
   "source": [
    "# 接下来进入每个房源的页面，获取其中的数据\n",
    "for each in output_list:\n",
    "    title = each[0]\n",
    "    link = each[1]\n",
    "    \n",
    "    r = requests.get(link, headers = headers)\n",
    "    soup = BeautifulSoup(r.text, 'lxml')\n",
    "    \n",
    "    total_price = soup.find('div', class_ ='basic-info clearfix').contents[1].text.strip()\n",
    "    room = soup.find('div', class_ ='basic-info clearfix').contents[3].text.strip()\n",
    "    size = soup.find('div', class_ ='basic-info clearfix').contents[5].text.strip()\n",
    "\n",
    "    house_info = soup.find_all('div', class_ ='houseInfo-content')\n",
    "    neighbor = house_info[0].text.strip()\n",
    "    price_per_squarem = house_info[2].text.strip()\n",
    "    \n",
    "    print ([title, total_price, room, size, neighbor, price_per_squarem])"
   ]
  },
  {
   "cell_type": "code",
   "execution_count": null,
   "metadata": {},
   "outputs": [],
   "source": []
  }
 ],
 "metadata": {
  "kernelspec": {
   "display_name": "Python 3",
   "language": "python",
   "name": "python3"
  },
  "language_info": {
   "codemirror_mode": {
    "name": "ipython",
    "version": 3
   },
   "file_extension": ".py",
   "mimetype": "text/x-python",
   "name": "python",
   "nbconvert_exporter": "python",
   "pygments_lexer": "ipython3",
   "version": "3.6.5"
  },
  "toc": {
   "base_numbering": 1,
   "nav_menu": {},
   "number_sections": true,
   "sideBar": true,
   "skip_h1_title": false,
   "title_cell": "Table of Contents",
   "title_sidebar": "Contents",
   "toc_cell": false,
   "toc_position": {},
   "toc_section_display": true,
   "toc_window_display": false
  }
 },
 "nbformat": 4,
 "nbformat_minor": 2
}
